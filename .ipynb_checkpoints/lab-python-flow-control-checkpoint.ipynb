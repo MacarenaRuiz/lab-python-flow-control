{
 "cells": [
  {
   "cell_type": "markdown",
   "metadata": {
    "tags": []
   },
   "source": [
    "# Lab | Flow Control"
   ]
  },
  {
   "cell_type": "code",
   "execution_count": 48,
   "metadata": {},
   "outputs": [],
   "source": [
    "## Exercise: Managing Customer Orders Optimized\n",
    "\n",
    "#In the last lab, you were starting an online store that sells various products. To ensure smooth operations, you developed a program that manages customer orders and inventory.\n",
    "\n",
    "#You did so without using flow control. Let's go a step further and improve this code.\n",
    "\n",
    "#Follow the steps below to complete the exercise:\n",
    "\n",
    "#1. Look at your code from the lab data structures, and improve repeated code with loops.\n",
    "\n",
    "#2. Instead of asking the user to input the name of three products that a customer wants to order, do the following:\n",
    "    \n",
    "   # a. Prompt the user to enter the name of a product that a customer wants to order.\n",
    "  \n",
    "    \n",
    "    #b. Add the product name to the \"customer_orders\" set.\n",
    "  \n",
    "    #c. Ask the user if they want to add another product (yes/no).\n",
    "    \n",
    "   # d. Continue the loop until the user does not want to add another product.\n",
    "\n",
    "#3. Instead of updating the inventory by subtracting 1 from the quantity of each product, only do it for  the products that were ordered (those in \"customer_orders\")."
   ]
  },
  {
   "cell_type": "markdown",
   "metadata": {},
   "source": [
    "#1. \n",
    "products = [\"t-shirt\", \"mug\", \"hat\", \"book\", \"keychain\"]\n",
    "product = input('Enter a product:')\n",
    "\n",
    "for productTotal in products:\n",
    "    if product == products:\n",
    "        print('The product is: ', product)\n",
    "    else:\n",
    "        print ('The product does not exist')\n"
   ]
  },
  {
   "cell_type": "code",
   "execution_count": null,
   "metadata": {},
   "outputs": [],
   "source": [
    "products = [\"t-shirt\", \"mug\", \"hat\", \"book\", \"keychain\"]\n",
    "\n",
    "   # a. Prompt the user to enter the name of a product that a customer wants to order.\n",
    "customer_orders = set()\n",
    "for i in range(3):\n",
    "    product = input(f'Enter the name of a product to order (t-shirt, mug, hat, book, keychain): {products}:')\n",
    "    customer_orders.add(product)"
   ]
  },
  {
   "cell_type": "raw",
   "metadata": {},
   "source": []
  },
  {
   "cell_type": "code",
   "execution_count": null,
   "metadata": {},
   "outputs": [],
   "source": [
    "#b. Add the product name to the \"customer_orders\" set.\n",
    "print(customer_orders)"
   ]
  },
  {
   "cell_type": "code",
   "execution_count": null,
   "metadata": {},
   "outputs": [],
   "source": [
    "  #c. Ask the user if they want to add another product (yes/no).\n",
    "customer_orders = set()\n",
    "\n",
    "anProduct = input('Do you want another product?: ').lower()\n",
    "\n",
    "if anProduct == 'yes':\n",
    "    for i in range(5):\n",
    "        product = input(f'Enter the name of a product to order (t-shirt, mug, hat, book, keychain): {products}:')\n",
    "        customer_orders.add(product)\n",
    "else:\n",
    "    print('Bye bye')"
   ]
  },
  {
   "cell_type": "code",
   "execution_count": null,
   "metadata": {},
   "outputs": [],
   "source": [
    "   # d. Continue the loop until the user does not want to add another product.\n",
    "anProduct = input('Do you want another product?: ').lower()\n",
    "    \n",
    "while anProduct == 'yes':\n",
    "        product = input(f'Enter the name of a product to order (t-shirt, mug, hat, book, keychain): {products}:')\n",
    "        customer_orders.add(product)\n",
    "        anProduct = input('Do you want another product?: ').lower()"
   ]
  },
  {
   "cell_type": "code",
   "execution_count": null,
   "metadata": {},
   "outputs": [],
   "source": [
    "#3. Instead of updating the inventory by subtracting 1 from the quantity of each product, only do it for  the products that were ordered (those in \"customer_orders\").\n"
   ]
  },
  {
   "cell_type": "code",
   "execution_count": null,
   "metadata": {},
   "outputs": [],
   "source": []
  },
  {
   "cell_type": "code",
   "execution_count": null,
   "metadata": {},
   "outputs": [],
   "source": []
  },
  {
   "cell_type": "code",
   "execution_count": null,
   "metadata": {},
   "outputs": [],
   "source": []
  }
 ],
 "metadata": {
  "kernelspec": {
   "display_name": "Python 3",
   "language": "python",
   "name": "python3"
  },
  "language_info": {
   "codemirror_mode": {
    "name": "ipython",
    "version": 3
   },
   "file_extension": ".py",
   "mimetype": "text/x-python",
   "name": "python",
   "nbconvert_exporter": "python",
   "pygments_lexer": "ipython3",
   "version": "3.8.5"
  }
 },
 "nbformat": 4,
 "nbformat_minor": 5
}
